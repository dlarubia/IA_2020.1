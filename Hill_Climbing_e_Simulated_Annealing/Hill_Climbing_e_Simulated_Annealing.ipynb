{
  "nbformat": 4,
  "nbformat_minor": 0,
  "metadata": {
    "colab": {
      "name": "Tarefa 4 - Hill Climbing e Simulated Annealing.ipynb",
      "provenance": [],
      "collapsed_sections": [
        "BXagAVe2qK9G",
        "28PdvGf0rBpd",
        "t5sVxstOBkbT"
      ]
    },
    "kernelspec": {
      "display_name": "Python 3",
      "name": "python3"
    }
  },
  "cells": [
    {
      "cell_type": "markdown",
      "metadata": {
        "id": "02k0Ev4_RVcD"
      },
      "source": [
        "# **Tarefa 4 - Hill Climbing e Simulated Annealing**\n",
        "\n",
        "Alunos: \n",
        "* Daniel La Rubia - DRE: 11503904\n",
        "* Victor Ribeiro Pires - DRE: 113051532"
      ]
    },
    {
      "cell_type": "markdown",
      "metadata": {
        "id": "LwXN2uHsDoXt"
      },
      "source": [
        "## Modelagem\n",
        "\n",
        "1. A representação no programa será feita através da utilização de uma lista de listas, do tamanho **N x N**, contendo **N** rainhas. Os tabuleiros serão inicializados com as casas contendo valor igual a zero"
      ]
    },
    {
      "cell_type": "code",
      "metadata": {
        "id": "THtvji8AVYhy"
      },
      "source": [
        "import random\n",
        "from math import e"
      ],
      "execution_count": null,
      "outputs": []
    },
    {
      "cell_type": "code",
      "metadata": {
        "id": "koHXGWpmDg1c"
      },
      "source": [
        "def CreateBoard(N):\n",
        "  board = []\n",
        "  for i in range (N):\n",
        "    board.append([])\n",
        "    for j in range (N):\n",
        "      board[i].append(0)\n",
        "  return board"
      ],
      "execution_count": null,
      "outputs": []
    },
    {
      "cell_type": "code",
      "metadata": {
        "colab": {
          "base_uri": "https://localhost:8080/"
        },
        "id": "FNPpbezFS4UH",
        "outputId": "e79ab766-223b-426a-c314-d861e62162a9"
      },
      "source": [
        "board = CreateBoard(8)\n",
        "board"
      ],
      "execution_count": null,
      "outputs": [
        {
          "output_type": "execute_result",
          "data": {
            "text/plain": [
              "[[0, 0, 0, 0, 0, 0, 0, 0],\n",
              " [0, 0, 0, 0, 0, 0, 0, 0],\n",
              " [0, 0, 0, 0, 0, 0, 0, 0],\n",
              " [0, 0, 0, 0, 0, 0, 0, 0],\n",
              " [0, 0, 0, 0, 0, 0, 0, 0],\n",
              " [0, 0, 0, 0, 0, 0, 0, 0],\n",
              " [0, 0, 0, 0, 0, 0, 0, 0],\n",
              " [0, 0, 0, 0, 0, 0, 0, 0]]"
            ]
          },
          "metadata": {
            "tags": []
          },
          "execution_count": 30
        }
      ]
    },
    {
      "cell_type": "markdown",
      "metadata": {
        "id": "GCUwZI5cTCHj"
      },
      "source": [
        "## Implementação\n",
        "\n",
        "2. Criado o tabuleiro base, o próximo objetivo consiste em implementar as funções que realizam os testes no programa."
      ]
    },
    {
      "cell_type": "markdown",
      "metadata": {
        "id": "iDB9Aaj9eD5u"
      },
      "source": [
        "### a) Função que, dado o tamanho **N** do tabuleiro, retorna o tabuleiro **N x N** com **N** rainhas distribuídas de forma randômica. "
      ]
    },
    {
      "cell_type": "code",
      "metadata": {
        "id": "C-347NfYTBYY"
      },
      "source": [
        "def StartRandomBoard(board):\n",
        "  i = 0\n",
        "  while i < len(board):\n",
        "    line = random.randint(0, len(board) - 1)\n",
        "    column = random.randint(0, len(board) - 1)\n",
        "    ''' Completely random board\n",
        "    if (board[line][column] == 0):\n",
        "      print(\"Put a queen in [\" + str(line+1) + \"][\" + str(column+1) + \"]\")\n",
        "      board[line][column] = i + 1\n",
        "    else:\n",
        "      i -= 1\n",
        "    '''\n",
        "    # Random columns only \n",
        "    #print(\"Put a queen in [\" + str(i+1) + \"][\" + str(column+1) + \"]\")\n",
        "    board[i][column] = i + 1\n",
        "    i += 1\n",
        "  return board"
      ],
      "execution_count": null,
      "outputs": []
    },
    {
      "cell_type": "code",
      "metadata": {
        "colab": {
          "base_uri": "https://localhost:8080/"
        },
        "id": "xNmO8rS5YNz3",
        "outputId": "b125c849-2516-4657-d4c4-562aa5718217"
      },
      "source": [
        "randomBoard = StartRandomBoard(board)\n",
        "randomBoard"
      ],
      "execution_count": null,
      "outputs": [
        {
          "output_type": "execute_result",
          "data": {
            "text/plain": [
              "[[1, 0, 0, 0, 0, 0, 0, 0],\n",
              " [0, 0, 0, 0, 2, 0, 0, 0],\n",
              " [3, 0, 0, 0, 0, 0, 0, 0],\n",
              " [0, 0, 0, 0, 0, 0, 4, 0],\n",
              " [5, 0, 0, 0, 0, 0, 0, 0],\n",
              " [0, 0, 0, 0, 6, 0, 0, 0],\n",
              " [0, 0, 0, 0, 0, 7, 0, 0],\n",
              " [0, 0, 0, 0, 0, 8, 0, 0]]"
            ]
          },
          "metadata": {
            "tags": []
          },
          "execution_count": 32
        }
      ]
    },
    {
      "cell_type": "markdown",
      "metadata": {
        "id": "paLPgGLeWEs9"
      },
      "source": [
        "### b) Definir uma função que, dado um tabuleiro qualquer, retorna todos os seus vizinhos.\n",
        "\n"
      ]
    },
    {
      "cell_type": "markdown",
      "metadata": {
        "id": "tPscszBEp3Rw"
      },
      "source": [
        "Função que retorna a configuração atual do tabuleiro, baseado na localização das rainhas (visto que há 1 rainha por linha)."
      ]
    },
    {
      "cell_type": "code",
      "metadata": {
        "id": "h8jC087ZfkXP"
      },
      "source": [
        "def GetCurrentNode(board):\n",
        "  currentNode = []\n",
        "  for i in range (len(board)):\n",
        "    # print(\"\\nLinha: \" + str(i) + \" - Coluna: \\n\" + str(board[i]))\n",
        "    currentNode.append((board[i].index(i+1)) + 1)\n",
        "  return currentNode"
      ],
      "execution_count": null,
      "outputs": []
    },
    {
      "cell_type": "code",
      "metadata": {
        "colab": {
          "base_uri": "https://localhost:8080/"
        },
        "id": "dSl9IMVJyDsq",
        "outputId": "a2f8d6c5-1d17-4963-b378-7624f65bb646"
      },
      "source": [
        "currentNode = GetCurrentNode(randomBoard)\n",
        "print(\"Current node: \" + str(currentNode))"
      ],
      "execution_count": null,
      "outputs": [
        {
          "output_type": "stream",
          "text": [
            "Current node: [1, 5, 1, 7, 1, 5, 6, 6]\n"
          ],
          "name": "stdout"
        }
      ]
    },
    {
      "cell_type": "markdown",
      "metadata": {
        "id": "MpTO8AS0qB-4"
      },
      "source": [
        "Função que encontra todos os vizinhos possíveis a partir do nó corrente."
      ]
    },
    {
      "cell_type": "code",
      "metadata": {
        "id": "f9l7ZCJi3oWF"
      },
      "source": [
        "def GetNeighbors(currentNode):\n",
        "  neighbors = []\n",
        "  # currentNode = GetCurrentNode(board)\n",
        "  for i in range(len(currentNode)):\n",
        "    actualColumn = currentNode[i] \n",
        "    for j in range(len(currentNode)):\n",
        "      if (actualColumn != j + 1):\n",
        "        aux = currentNode.copy()\n",
        "        aux[i] = j + 1\n",
        "        neighbors.append(aux)\n",
        "  return neighbors"
      ],
      "execution_count": null,
      "outputs": []
    },
    {
      "cell_type": "markdown",
      "metadata": {
        "id": "BXagAVe2qK9G"
      },
      "source": [
        "A seguir estão listados os vizinhos possíveis, baseado na configuração atual. \n",
        "\n",
        "##### Lista de vizinhos"
      ]
    },
    {
      "cell_type": "code",
      "metadata": {
        "colab": {
          "base_uri": "https://localhost:8080/"
        },
        "id": "9A5QfcAS5M76",
        "outputId": "2dc5ac3d-31c1-4313-d505-ed4de2ac0a68"
      },
      "source": [
        "neighbors = GetNeighbors(currentNode)\n",
        "print(\"Neighbors:\")\n",
        "neighbors"
      ],
      "execution_count": null,
      "outputs": [
        {
          "output_type": "stream",
          "text": [
            "Neighbors:\n"
          ],
          "name": "stdout"
        },
        {
          "output_type": "execute_result",
          "data": {
            "text/plain": [
              "[[2, 5, 1, 7, 1, 5, 6, 6],\n",
              " [3, 5, 1, 7, 1, 5, 6, 6],\n",
              " [4, 5, 1, 7, 1, 5, 6, 6],\n",
              " [5, 5, 1, 7, 1, 5, 6, 6],\n",
              " [6, 5, 1, 7, 1, 5, 6, 6],\n",
              " [7, 5, 1, 7, 1, 5, 6, 6],\n",
              " [8, 5, 1, 7, 1, 5, 6, 6],\n",
              " [1, 1, 1, 7, 1, 5, 6, 6],\n",
              " [1, 2, 1, 7, 1, 5, 6, 6],\n",
              " [1, 3, 1, 7, 1, 5, 6, 6],\n",
              " [1, 4, 1, 7, 1, 5, 6, 6],\n",
              " [1, 6, 1, 7, 1, 5, 6, 6],\n",
              " [1, 7, 1, 7, 1, 5, 6, 6],\n",
              " [1, 8, 1, 7, 1, 5, 6, 6],\n",
              " [1, 5, 2, 7, 1, 5, 6, 6],\n",
              " [1, 5, 3, 7, 1, 5, 6, 6],\n",
              " [1, 5, 4, 7, 1, 5, 6, 6],\n",
              " [1, 5, 5, 7, 1, 5, 6, 6],\n",
              " [1, 5, 6, 7, 1, 5, 6, 6],\n",
              " [1, 5, 7, 7, 1, 5, 6, 6],\n",
              " [1, 5, 8, 7, 1, 5, 6, 6],\n",
              " [1, 5, 1, 1, 1, 5, 6, 6],\n",
              " [1, 5, 1, 2, 1, 5, 6, 6],\n",
              " [1, 5, 1, 3, 1, 5, 6, 6],\n",
              " [1, 5, 1, 4, 1, 5, 6, 6],\n",
              " [1, 5, 1, 5, 1, 5, 6, 6],\n",
              " [1, 5, 1, 6, 1, 5, 6, 6],\n",
              " [1, 5, 1, 8, 1, 5, 6, 6],\n",
              " [1, 5, 1, 7, 2, 5, 6, 6],\n",
              " [1, 5, 1, 7, 3, 5, 6, 6],\n",
              " [1, 5, 1, 7, 4, 5, 6, 6],\n",
              " [1, 5, 1, 7, 5, 5, 6, 6],\n",
              " [1, 5, 1, 7, 6, 5, 6, 6],\n",
              " [1, 5, 1, 7, 7, 5, 6, 6],\n",
              " [1, 5, 1, 7, 8, 5, 6, 6],\n",
              " [1, 5, 1, 7, 1, 1, 6, 6],\n",
              " [1, 5, 1, 7, 1, 2, 6, 6],\n",
              " [1, 5, 1, 7, 1, 3, 6, 6],\n",
              " [1, 5, 1, 7, 1, 4, 6, 6],\n",
              " [1, 5, 1, 7, 1, 6, 6, 6],\n",
              " [1, 5, 1, 7, 1, 7, 6, 6],\n",
              " [1, 5, 1, 7, 1, 8, 6, 6],\n",
              " [1, 5, 1, 7, 1, 5, 1, 6],\n",
              " [1, 5, 1, 7, 1, 5, 2, 6],\n",
              " [1, 5, 1, 7, 1, 5, 3, 6],\n",
              " [1, 5, 1, 7, 1, 5, 4, 6],\n",
              " [1, 5, 1, 7, 1, 5, 5, 6],\n",
              " [1, 5, 1, 7, 1, 5, 7, 6],\n",
              " [1, 5, 1, 7, 1, 5, 8, 6],\n",
              " [1, 5, 1, 7, 1, 5, 6, 1],\n",
              " [1, 5, 1, 7, 1, 5, 6, 2],\n",
              " [1, 5, 1, 7, 1, 5, 6, 3],\n",
              " [1, 5, 1, 7, 1, 5, 6, 4],\n",
              " [1, 5, 1, 7, 1, 5, 6, 5],\n",
              " [1, 5, 1, 7, 1, 5, 6, 7],\n",
              " [1, 5, 1, 7, 1, 5, 6, 8]]"
            ]
          },
          "metadata": {
            "tags": []
          },
          "execution_count": 36
        }
      ]
    },
    {
      "cell_type": "markdown",
      "metadata": {
        "id": "O0AH50WvejSm"
      },
      "source": [
        "### c) Criar uma função que dado um tabuleiro qualquer, retorna um de seus vizinhos. A escolha do vizinho a ser retornado pela função deve ser aleatória.\n",
        "\n",
        "\n"
      ]
    },
    {
      "cell_type": "code",
      "metadata": {
        "id": "9-nkKrvwgL32"
      },
      "source": [
        "def GetRandomNeighbor(currentNode):\n",
        "  return random.choice(GetNeighbors(currentNode))"
      ],
      "execution_count": null,
      "outputs": []
    },
    {
      "cell_type": "code",
      "metadata": {
        "colab": {
          "base_uri": "https://localhost:8080/"
        },
        "id": "HHwVu5MoCQ0q",
        "outputId": "66d4e206-2698-4093-a172-5f9f6dceb8d7"
      },
      "source": [
        "randomNeighbor = GetRandomNeighbor(currentNode)\n",
        "randomNeighbor"
      ],
      "execution_count": null,
      "outputs": [
        {
          "output_type": "execute_result",
          "data": {
            "text/plain": [
              "[1, 5, 1, 2, 1, 5, 6, 6]"
            ]
          },
          "metadata": {
            "tags": []
          },
          "execution_count": 38
        }
      ]
    },
    {
      "cell_type": "markdown",
      "metadata": {
        "id": "Zey_mMJNelSn"
      },
      "source": [
        "### d) Definir uma função que dado um tabuleiro qualquer, retorna a avaliação deste tabuleiro (número de ataques entre as rainhas)."
      ]
    },
    {
      "cell_type": "markdown",
      "metadata": {
        "id": "uJViwJYdqrBt"
      },
      "source": [
        "As duas funções abaixo fazem exatamente a mesma coisa, que é verificar o número de ataques possíveis dada uma configuração do tabuleiro. A diferença entre as duas está no parâmetro recebido, a função **_2** será utilizada no restante do código por necessitar somente do nó corrente."
      ]
    },
    {
      "cell_type": "code",
      "metadata": {
        "id": "tj7INHBIgMvY"
      },
      "source": [
        "def GetPossibleAttacks(board):\n",
        "  attacks = 0\n",
        "  for i in range(len(board) - 1):\n",
        "    queen_column = board[i].index(i + 1)\n",
        "    print(\"queen: \" + str(i + 1) + \" - column: \" + str(queen_column + 1))\n",
        "    j = i + 1\n",
        "    diagonal_counter = 0\n",
        "    while j < len(board):\n",
        "      diagonal_counter += 1\n",
        "      next_queen_column = board[j].index(j + 1)\n",
        "      # check attack conditions --> same column or diagonals\n",
        "      if (queen_column == next_queen_column):\n",
        "        print(\"attack from queen -> \" + str(i + 1) + \" to queen -> \" + str(j + 1))\n",
        "        attacks += 1\n",
        "      elif ( (queen_column == next_queen_column - diagonal_counter) or (queen_column == next_queen_column + diagonal_counter) ):\n",
        "        print(\"attack from queen -> \" + str(i + 1) + \" to queen -> \" + str(j + 1))\n",
        "        attacks += 1\n",
        "      j += 1\n",
        "    diagonal_counter = 0\n",
        "    j = 0\n",
        " \n",
        "  return attacks\n",
        " \n",
        " \n",
        "def GetPossibleAttacks_2(currentNode):\n",
        "  attacks = 0\n",
        "  for i in range(len(currentNode)):\n",
        "    j = i + 1\n",
        "    diagonal_counter = 0\n",
        "    while j < len(currentNode):\n",
        "      diagonal_counter += 1\n",
        "      if (currentNode[i] == currentNode[j]):\n",
        "        attacks += 1\n",
        "      elif (currentNode[i] == (currentNode[j] - diagonal_counter) or currentNode[i] == (currentNode[j] + diagonal_counter)):\n",
        "        attacks += 1\n",
        "      j += 1\n",
        "    j = 0\n",
        " \n",
        "  return attacks"
      ],
      "execution_count": null,
      "outputs": []
    },
    {
      "cell_type": "markdown",
      "metadata": {
        "id": "28PdvGf0rBpd"
      },
      "source": [
        "###### Exibir as possibilidades de ataques existentes no tabuleiro dada a configuração atual."
      ]
    },
    {
      "cell_type": "code",
      "metadata": {
        "colab": {
          "base_uri": "https://localhost:8080/"
        },
        "id": "LHeLr9kTz_ja",
        "outputId": "fc30f909-42d4-45ce-c28b-a2481301f240"
      },
      "source": [
        "possible_attacks = GetPossibleAttacks(randomBoard)\n",
        "print(\"Possible attacks: \" + str(possible_attacks))\n",
        "\n",
        "possible_attacks_2 = GetPossibleAttacks_2(currentNode)\n",
        "print(\"Possible attacks alternative function _2: \" + str(possible_attacks_2))"
      ],
      "execution_count": null,
      "outputs": [
        {
          "output_type": "stream",
          "text": [
            "queen: 1 - column: 1\n",
            "attack from queen -> 1 to queen -> 3\n",
            "attack from queen -> 1 to queen -> 5\n",
            "queen: 2 - column: 5\n",
            "attack from queen -> 2 to queen -> 4\n",
            "attack from queen -> 2 to queen -> 6\n",
            "queen: 3 - column: 1\n",
            "attack from queen -> 3 to queen -> 5\n",
            "attack from queen -> 3 to queen -> 8\n",
            "queen: 4 - column: 7\n",
            "attack from queen -> 4 to queen -> 6\n",
            "queen: 5 - column: 1\n",
            "queen: 6 - column: 5\n",
            "attack from queen -> 6 to queen -> 7\n",
            "queen: 7 - column: 6\n",
            "attack from queen -> 7 to queen -> 8\n",
            "Possible attacks: 9\n",
            "Possible attacks alternative function _2: 9\n"
          ],
          "name": "stdout"
        }
      ]
    },
    {
      "cell_type": "markdown",
      "metadata": {
        "id": "-0QcJF0OWQsV"
      },
      "source": [
        "### Heurística"
      ]
    },
    {
      "cell_type": "markdown",
      "metadata": {
        "id": "tjm22GNfrO4r"
      },
      "source": [
        "A heurística será dada pelo número de ataques possíveis na configuração do tabuleiro. A equação geral é $ f(n) = -h(n) $"
      ]
    },
    {
      "cell_type": "code",
      "metadata": {
        "id": "N8s3711kWWOI"
      },
      "source": [
        "def H(currentNode):\n",
        "  return GetPossibleAttacks_2(currentNode)\n",
        "\n",
        "def F(currentNode):\n",
        "  return -H(currentNode)"
      ],
      "execution_count": null,
      "outputs": []
    },
    {
      "cell_type": "code",
      "metadata": {
        "colab": {
          "base_uri": "https://localhost:8080/"
        },
        "id": "oJz0YbPgXJ89",
        "outputId": "80908219-49d0-4425-fc04-0390b749f12c"
      },
      "source": [
        "h = H(randomNeighbor)\n",
        "f = F(randomNeighbor)\n",
        "print(\"h: \" + str(h) + \"\\nf: \" + str(f))"
      ],
      "execution_count": null,
      "outputs": [
        {
          "output_type": "stream",
          "text": [
            "h: 10\n",
            "f: -10\n"
          ],
          "name": "stdout"
        }
      ]
    },
    {
      "cell_type": "markdown",
      "metadata": {
        "id": "TCWrvtE--e7-"
      },
      "source": [
        "## Hill Climbing"
      ]
    },
    {
      "cell_type": "markdown",
      "metadata": {
        "id": "qlBhZC4uDC7W"
      },
      "source": [
        "### a) Implemente uma versão do algoritmo de Hill Climbing, onde o tabuleiro sucessor do tabuleiro corrente será o primeiro vizinho dele (tabuleiro corrente) que tem uma avaliação melhor. Assim, se a avaliação do tabuleiro corrente $ Tc $ for igual a $ k $, o primeiro tabuleiro vizinho de $ Tc $ encontrado com avaliação menor que $ k $ deve passar a ser o novo tabuleiro corrente"
      ]
    },
    {
      "cell_type": "markdown",
      "metadata": {
        "id": "6yQNkKdpredp"
      },
      "source": [
        "A função *FirstBestNeighbor* se encarrega de encontrar o primeiro melhor vizinho, enquanto a função *HillClimbFirstBest* consiste na implementação do algoritmo."
      ]
    },
    {
      "cell_type": "code",
      "metadata": {
        "id": "MM9CXjzfwNsr"
      },
      "source": [
        "def FirstBestNeighbor(currentNode):\n",
        "  neighbors = GetNeighbors(currentNode)\n",
        "  for neighbor in neighbors:\n",
        "    if( F(neighbor) > F(currentNode)):\n",
        "      return neighbor\n",
        "  return None\n",
        "  \n",
        "\n",
        "def HillClimbingFirstBest(currentNode):\n",
        "  currentState = currentNode\n",
        "  totalNodesGenerated = 0\n",
        "  while True:\n",
        "    totalNodesGenerated += 1\n",
        "    neighbor = FirstBestNeighbor(currentState)\n",
        "    if neighbor is None:\n",
        "      return currentState, totalNodesGenerated\n",
        "    # print(\"F do vizinho: \" + str(F(neighbor)) + \" -- F do estado atual: \" + str(F(currentState)))\n",
        "    currentState = neighbor"
      ],
      "execution_count": null,
      "outputs": []
    },
    {
      "cell_type": "code",
      "metadata": {
        "id": "yT78LSSV2bC3"
      },
      "source": [
        "# HillClimbingFB = HillClimbingFirstBest(currentNode)\n",
        "# %timeit HillClimbingFirstBest(currentNode)\n",
        "# H(HillClimbingFB[0])\n"
      ],
      "execution_count": null,
      "outputs": []
    },
    {
      "cell_type": "markdown",
      "metadata": {
        "id": "JlqpaW8PA5OV"
      },
      "source": [
        "### b) Implemente uma versão do algoritmo Hill Climbing, onde todos os tabuleiros vizinhos do tabuleiro corrente são avaliados e escolha para ser o novo tabuleiro corrente aquele que mais melhora a avaliação do tabuleiro corrente atual. No caso de haver mais de um tabuleiro, a escolha deve ser feita de forma aleatória."
      ]
    },
    {
      "cell_type": "markdown",
      "metadata": {
        "id": "k8gEXbdGr04N"
      },
      "source": [
        "Ao contrário da implementação anterior, agora o vizinho escolhido será a melhor configuração possível dentre todas as existentes. No caso de repetição, é escolhido o melhor vizinho de forma aleatória. A função *BestNeighbor* retorna o melhor vizinho, enquanto a seguinte consiste na implementação do algoritmo em si."
      ]
    },
    {
      "cell_type": "code",
      "metadata": {
        "id": "ZcQYqfpcBPGt"
      },
      "source": [
        "def BestNeighbor(currentNode):\n",
        "  neighbors = GetNeighbors(currentNode)\n",
        "  best_neighbors = []\n",
        "  best_h = F(currentNode)\n",
        "  for neighbor in neighbors:\n",
        "    F_neighbor = F(neighbor)\n",
        "    if F_neighbor > best_h :\n",
        "      best_h = F_neighbor\n",
        "      best_neighbors = [neighbor]\n",
        "    elif F_neighbor == best_h:\n",
        "      best_neighbors.append(neighbor)\n",
        "  if best_neighbors:\n",
        "    return random.choice(best_neighbors)\n",
        "  return None\n",
        "\n",
        "\n",
        "def HillClimbingBestNeighbor(currentNode):\n",
        "  currentState = currentNode\n",
        "  totalNodesGenerated = 0\n",
        "  while True:\n",
        "    totalNodesGenerated += 1\n",
        "    if F(currentState) == 0:\n",
        "      return currentState, totalNodesGenerated\n",
        "    neighbor = BestNeighbor(currentState)\n",
        "    if neighbor is None:\n",
        "      return currentState, totalNodesGenerated\n",
        "    # print(\"F do vizinho: \" + str(F(neighbor)) + \" -- F do estado atual: \" + str(F(currentState)))\n",
        "    currentState = neighbor"
      ],
      "execution_count": null,
      "outputs": []
    },
    {
      "cell_type": "code",
      "metadata": {
        "colab": {
          "base_uri": "https://localhost:8080/"
        },
        "id": "PSK-5-C9SWhu",
        "outputId": "393081c3-09b9-437a-ac1a-1ab8cda78d4a"
      },
      "source": [
        "bestNeighbor = BestNeighbor(currentNode)\n",
        "bestNeighbor\n",
        "\n",
        "HillClimbingBestNeighbor(currentNode)"
      ],
      "execution_count": null,
      "outputs": [
        {
          "output_type": "execute_result",
          "data": {
            "text/plain": [
              "([2, 5, 7, 4, 1, 8, 6, 3], 19)"
            ]
          },
          "metadata": {
            "tags": []
          },
          "execution_count": 46
        }
      ]
    },
    {
      "cell_type": "markdown",
      "metadata": {
        "id": "TFW7yssEBOOY"
      },
      "source": [
        "### c) Analise o desempenho do tabuleiro para as implementações listadas a seguir\n",
        "\n",
        "* Tabuleiros de tamanho 4, 8, 16, 32\n",
        "* Para cada tamanho de tabuleiro:\n",
        "  * Indique quantas vezes foi necessário executar os programas para encontrar uma solução\n",
        "  * Quantos tabuleiros correntes, em média, foram gerados em cada execução dos programas\n"
      ]
    },
    {
      "cell_type": "code",
      "metadata": {
        "id": "FQtBztPQBkHD"
      },
      "source": [
        "# Os testes necessários ainda não foram implementados. "
      ],
      "execution_count": null,
      "outputs": []
    },
    {
      "cell_type": "markdown",
      "metadata": {
        "id": "V4uXmRfDsgGh"
      },
      "source": [
        "A função HillClimbing retorna o total de nós gerados, permitindo verificar o número de passos realizados. Ao mesmo tempo que é retornado o estado atual, que permite verificar se a heurística $ h(n) = 0 $. Caso seja, foi encontrada uma solução. Caso não, o algoritmo foi encerrado sem que uma solução fosse encontrada."
      ]
    },
    {
      "cell_type": "markdown",
      "metadata": {
        "id": "t5sVxstOBkbT"
      },
      "source": [
        "### d) Quais conclusões é possível tirar destes experimentos"
      ]
    },
    {
      "cell_type": "markdown",
      "metadata": {
        "id": "zYj-n94CtExC"
      },
      "source": [
        " $ Testes $ $ pendentes $"
      ]
    },
    {
      "cell_type": "code",
      "metadata": {
        "id": "J3sBSDwHBsiN"
      },
      "source": [
        "# Não foram implementados os testes para aplicar a implementação em quantidades suficientemente grandes"
      ],
      "execution_count": null,
      "outputs": []
    },
    {
      "cell_type": "markdown",
      "metadata": {
        "id": "32oKyOzGC8GH"
      },
      "source": [
        "## Simulated Annealing"
      ]
    },
    {
      "cell_type": "markdown",
      "metadata": {
        "id": "iAWtns1bDLZ0"
      },
      "source": [
        "### a) Implemente o algoritmo *Simulated Annealing*. Os parâmetros de entrada do programa devem ter *temperatura inicial* $ InitTemp $, o número máximo de iterações $ MaxIt $ e o *fator de decaimento* $ α $."
      ]
    },
    {
      "cell_type": "code",
      "metadata": {
        "id": "N03phOFDhFhs"
      },
      "source": [
        "def SimulatedAnnealing(currentNode, InitTemp, MaxIt, alpha):\n",
        "  best_state = currentNode \n",
        "  currentTemperature = InitTemp\n",
        "  for i in range(MaxIt):\n",
        "    neighbor = GetRandomNeighbor(currentNode)\n",
        "    f_current = F(currentNode)\n",
        "    f_neighbor = F(neighbor)\n",
        "    delta = f_current - f_neighbor \n",
        "    if (delta < 0):\n",
        "      currentNode = neighbor\n",
        "      if (f_neighbor >= F(best_state)):\n",
        "        best_state = neighbor\n",
        "    else:\n",
        "      if (currentTemperature == 0):\n",
        "        break\n",
        "      elif ( e**-(delta/currentTemperature) > random.random() ):\n",
        "        current = neighbor\n",
        "    currentTemperature *= alpha\n",
        "\n",
        "  return best_state, F(best_state)"
      ],
      "execution_count": null,
      "outputs": []
    },
    {
      "cell_type": "markdown",
      "metadata": {
        "id": "biZiF_abuFzZ"
      },
      "source": [
        "###### Testes manuais com o algoritmo *Simulated Annealing*"
      ]
    },
    {
      "cell_type": "code",
      "metadata": {
        "colab": {
          "base_uri": "https://localhost:8080/"
        },
        "id": "QW_WuezKsbOD",
        "outputId": "18ead0d5-fd21-4dd9-bf64-02d4eae791cb"
      },
      "source": [
        "# a = SimulatedAnnealing(currentNode, 1100, 100, 0.85)\n",
        "# a\n",
        "\n",
        "tentativas = 0\n",
        "\n",
        "while True:\n",
        "  tentativas += 1\n",
        "  config, h = SimulatedAnnealing(currentNode, 1100, 100, 0.85)\n",
        "  if(h == 0):\n",
        "    print(\"Config: \" + str(config) + \" -- h: \" + str(h) + \" -- Attempts: \" + str(tentativas))\n",
        "    break\n",
        "\n",
        "tentativas = 0\n",
        "\n",
        "clean_board4 = CreateBoard(4)\n",
        "board4 = StartRandomBoard(clean_board4)\n",
        "board4_currentNode = GetCurrentNode(board4)\n",
        "while True:\n",
        "  tentativas += 1\n",
        "  config, h = SimulatedAnnealing(board4_currentNode, 1100, 100, 0.85)\n",
        "  if(h == 0):\n",
        "    print(\"Config: \" + str(config) + \" -- h: \" + str(h) + \" -- Attempts: \" + str(tentativas))\n",
        "    break"
      ],
      "execution_count": null,
      "outputs": [
        {
          "output_type": "stream",
          "text": [
            "Config: [2, 6, 1, 7, 4, 8, 3, 5] -- h: 0 -- Attempts: 3\n",
            "Config: [3, 1, 4, 2] -- h: 0 -- Attempts: 1\n"
          ],
          "name": "stdout"
        }
      ]
    },
    {
      "cell_type": "markdown",
      "metadata": {
        "id": "vRUHfSwED1tI"
      },
      "source": [
        "### b) Determine experimentalmente valores para os parâmetros de entrada que permitam que uma solução seja encontrada. Considere apenas tabuleiros de tamanho 4 e 8. Relate como a busca se comportou para os diferentes valores dos parâmetros de entrada que você usou."
      ]
    },
    {
      "cell_type": "markdown",
      "metadata": {
        "id": "JO0pOjOruQJS"
      },
      "source": [
        "###### Os testes a seguir não foram bem implementados, então não foi possível obter resultados consistentes e em grande escala, de forma que permita afirmar o comportamento do problema da forma que foi implementado."
      ]
    },
    {
      "cell_type": "code",
      "metadata": {
        "id": "sSF4fMRQEAo3"
      },
      "source": [
        "def test_SimulatedAnnealing(attemps, board_size, InitTemp, MaxIt, alpha):\n",
        "  clean_board = CreateBoard(board_size)\n",
        "  attemps_list = []\n",
        "  for i in range(attemps):\n",
        "    board = StartRandomBoard(clean_board)\n",
        "    currentNode = GetCurrentNode(board)\n",
        "    print(currentNode)\n",
        "    attemps = 0\n",
        "    while True:\n",
        "      #print(attemps)\n",
        "      attemps += 1\n",
        "      config, h = SimulatedAnnealing(currentNode, InitTemp, MaxIt, alpha)\n",
        "      if(h == 0):\n",
        "        break\n",
        "    attemps_list.append(attemps)\n",
        "  averageAttemps = sum(attemps_list) / len(attemps_list)\n",
        "  return averageAttemps\n",
        "\n",
        "def test_SA(attemps, board_size, currentNode, InitTemp, MaxIt, alpha):\n",
        "  clean_board = CreateBoard(board_size)\n",
        "  for i in range(attemps):\n",
        "    while True:\n",
        "      tentativas += 1\n",
        "      config, h = SimulatedAnnealing(currentNode, 1100, 100, 0.85)\n",
        "      if(h == 0):\n",
        "        print(\"Config: \" + str(config) + \" -- h: \" + str(h) + \" -- Attempts: \" + str(tentativas))\n",
        "      break\n"
      ],
      "execution_count": null,
      "outputs": []
    },
    {
      "cell_type": "code",
      "metadata": {
        "id": "ObJv6vdJhdAV"
      },
      "source": [
        "# test_SimulatedAnnealing(10, 4, 1110, 100, 0.85)\n",
        "# clean_board_4 = CreateBoard(4)\n",
        "# clean_board_8 = CreateBoard(8)\n",
        "# clean_board_16 = CreateBoard(16)\n",
        "# clean_board_32 = CreateBoard(32)\n",
        "\n",
        "# board_4 = StartRandomBoard(clean_board_4)\n",
        "# board_8 = StartRandomBoard(clean_board_8)\n",
        "# board_16 = StartRandomBoard(clean_board_16)\n",
        "# board_32 = StartRandomBoard(clean_board_32)\n",
        "\n",
        "# currentNode_4 = GetCurrentNode(board_4)\n",
        "\n",
        "# config, h = SimulatedAnnealing(currentNode_4, 1100, 1000, 0.85)\n",
        "# print(\"Config: \" + str(config) + \" -- h: \" + str(h) + \" -- Attempts: \" + str(tentativas))"
      ],
      "execution_count": null,
      "outputs": []
    },
    {
      "cell_type": "markdown",
      "metadata": {
        "id": "cfv-7xUMEDMU"
      },
      "source": [
        "### c) Caso você tenha sido bem sucedido no item anterior (encontrou a solução do problema de 4 e 8 rainhas), use os mesmos parâmetros de entrada usados e execute o programa agora considerando tabuleiros de tamanho 16 e 32. O que acontece?"
      ]
    },
    {
      "cell_type": "code",
      "metadata": {
        "id": "4wvGkhzLECRm"
      },
      "source": [
        "# attemps = 0\n",
        "\n",
        "# clean_board16 = CreateBoard(16)\n",
        "# board16 = StartRandomBoard(clean_board16)\n",
        "# board16_currentNode = GetCurrentNode(board16)\n",
        "# while True:\n",
        "#   attemps += 1\n",
        "#   config, h = SimulatedAnnealing(board16_currentNode, 1100, 100, 0.85)\n",
        "#   if(h == 0):\n",
        "#     print(\"Config: \" + str(config) + \" -- h: \" + str(h) + \" -- Attempts: \" + str(attemps))\n",
        "#     break\n",
        "\n",
        "\n",
        "# attemps = 0\n",
        "\n",
        "# clean_board32 = CreateBoard(32)\n",
        "# board32 = StartRandomBoard(clean_board32)\n",
        "# board32_currentNode = GetCurrentNode(board32)\n",
        "# while True:\n",
        "#   attemps += 1\n",
        "#   config, h = SimulatedAnnealing(board4_currentNode, 1100, 100, 0.85)\n",
        "#   if(h == 0):\n",
        "#     print(\"Config: \" + str(config) + \" -- h: \" + str(h) + \" -- Attempts: \" + str(attemps))\n",
        "#     break"
      ],
      "execution_count": null,
      "outputs": []
    },
    {
      "cell_type": "markdown",
      "metadata": {
        "id": "-vfsfnUTEPJS"
      },
      "source": [
        "## Questão\n",
        "\n",
        "Considerando os métodos de *Hill Climbing* e *Simulated Annealing* na resolução do problema das *N-Rainhas*, o que é possível concluir?"
      ]
    },
    {
      "cell_type": "markdown",
      "metadata": {
        "id": "8sbZjeJfFTKe"
      },
      "source": [
        "## Testes"
      ]
    },
    {
      "cell_type": "code",
      "metadata": {
        "id": "HQy_ty3RF-QS"
      },
      "source": [
        "def TestSimulatedAnnealing(algorithm, board_size, executions, InitTemp, MaxtIt, alpha):\n",
        "  solutions = 0\n",
        "  generated_boards = 0\n",
        "# generated_nodes = 0\n",
        "  attemps = 0\n",
        "  for i in range(execution):\n",
        "    board = StartRandomBoard(CreateBoard(board_size))\n",
        "    generated_boards += 1\n",
        "    while True:\n",
        "      attemps += 1\n",
        "      h = SimulatedAnnealing(GetCurrentNode(board), InitTemp, MaxIt, alpha)\n",
        "      if h == 0:\n",
        "        solutions += 1\n",
        "        break\n",
        "  return executions / solutions \n",
        "      \n",
        "def TestHillClimbing(algorithm, board_size, executions):\n",
        "  solutions = 0\n",
        "  generated_boards = 0\n",
        "  generated_nodes = 0\n",
        "  attemps = 0\n",
        "  for i in range(executions):\n",
        "    board = StartRandomBoard(CreateBoard(board_size))\n",
        "    generated_boards += 1\n",
        "    #print(generated_boards)\n",
        "    while True:\n",
        "      attemps += 1\n",
        "      currentState, gen_nodes, neighbor = algorithm(GetCurrentNode(board))\n",
        "      generated_nodes += gen_nodes\n",
        "      #print(generated_nodes)\n",
        "      if F(currentState) == 0:\n",
        "        solutions += 1\n",
        "        break\n",
        "      elif neighbor is None:\n",
        "        break\n",
        "  print(\"Tabuleiros gerados: \" + str(generated_boards))\n",
        "  return (solutions * 100) / executions, generated_nodes / executions, generated_boards / executions\n",
        "  # return executions / solutions, gen_nodes / executions\n",
        "\n",
        "\n",
        "\n",
        "def TestHillClimbing_2(algorithm, board_size, executions):\n",
        "  solutions = 0\n",
        "  generated_nodes = 0\n",
        "  for i in range(executions):\n",
        "    board = StartRandomBoard(CreateBoard(board_size))\n",
        "    currentState, gen_nodes = algorithm(GetCurrentNode(board))\n",
        "    generated_nodes += gen_nodes\n",
        "    if F(currentState) == 0:\n",
        "      solutions += 1\n",
        "\n",
        "  average_nodes = generated_nodes / executions\n",
        "  if solutions == 0:\n",
        "    return solutions, average_nodes\n",
        "  average_solutions = executions / solutions\n",
        "  return average_solutions, average_nodes"
      ],
      "execution_count": null,
      "outputs": []
    },
    {
      "cell_type": "markdown",
      "metadata": {
        "id": "FrWSKAh2FZ_y"
      },
      "source": [
        "### 4x4"
      ]
    },
    {
      "cell_type": "code",
      "metadata": {
        "colab": {
          "background_save": true,
          "base_uri": "https://localhost:8080/"
        },
        "id": "IukE1roFFuWL",
        "outputId": "15e4121b-a9c2-4528-a6a3-037b2dc9544c"
      },
      "source": [
        "executions = 20000\n",
        "board_size = 4\n",
        "\n",
        "average_solutions, average_nodes = TestHillClimbing_2(HillClimbingFirstBest, board_size, executions)\n",
        "print(\"Hill Climbing - First Best Neighbor\\nSolutions: \" + str(average_solutions) + \" --- Average Generated Nodes: \" + str(average_nodes) + \" --- Executions: \" + str(executions))"
      ],
      "execution_count": null,
      "outputs": [
        {
          "output_type": "stream",
          "text": [
            "Hill Climbing - First Best Neighbor\n",
            "Solutions: 3.2051282051282053 --- Average Generated Nodes: 2.82935 --- Executions: 20000\n"
          ],
          "name": "stdout"
        }
      ]
    },
    {
      "cell_type": "code",
      "metadata": {
        "colab": {
          "background_save": true,
          "base_uri": "https://localhost:8080/"
        },
        "id": "opcCL-YaaMUm",
        "outputId": "2e5b5fb0-6f26-4198-f69d-f38da07e0fbd"
      },
      "source": [
        "%timeit solutions, generated_nodes = TestHillClimbing_2(HillClimbingBestNeighbor, board_size, executions)\n",
        "print(\"Hill Climbing - Best Neighbor\\nSolutions: \" + str(solutions) + \" --- Average Generated Nodes: \" + str(generated_nodes) + \" --- Executions: \" + str(executions))"
      ],
      "execution_count": null,
      "outputs": [
        {
          "output_type": "stream",
          "text": [
            "1 loop, best of 3: 2.51 s per loop\n"
          ],
          "name": "stdout"
        },
        {
          "output_type": "error",
          "ename": "NameError",
          "evalue": "ignored",
          "traceback": [
            "\u001b[0;31m---------------------------------------------------------------------------\u001b[0m",
            "\u001b[0;31mNameError\u001b[0m                                 Traceback (most recent call last)",
            "\u001b[0;32m<ipython-input-31-4a6477147518>\u001b[0m in \u001b[0;36m<module>\u001b[0;34m()\u001b[0m\n\u001b[1;32m      1\u001b[0m \u001b[0mget_ipython\u001b[0m\u001b[0;34m(\u001b[0m\u001b[0;34m)\u001b[0m\u001b[0;34m.\u001b[0m\u001b[0mmagic\u001b[0m\u001b[0;34m(\u001b[0m\u001b[0;34m'timeit solutions, generated_nodes = TestHillClimbing_2(HillClimbingBestNeighbor, board_size, executions)'\u001b[0m\u001b[0;34m)\u001b[0m\u001b[0;34m\u001b[0m\u001b[0;34m\u001b[0m\u001b[0m\n\u001b[0;32m----> 2\u001b[0;31m \u001b[0mprint\u001b[0m\u001b[0;34m(\u001b[0m\u001b[0;34m\"Hill Climbing - Best Neighbor\\nSolutions: \"\u001b[0m \u001b[0;34m+\u001b[0m \u001b[0mstr\u001b[0m\u001b[0;34m(\u001b[0m\u001b[0msolutions\u001b[0m\u001b[0;34m)\u001b[0m \u001b[0;34m+\u001b[0m \u001b[0;34m\" --- Average Generated Nodes: \"\u001b[0m \u001b[0;34m+\u001b[0m \u001b[0mstr\u001b[0m\u001b[0;34m(\u001b[0m\u001b[0mgenerated_nodes\u001b[0m\u001b[0;34m)\u001b[0m \u001b[0;34m+\u001b[0m \u001b[0;34m\" --- Executions: \"\u001b[0m \u001b[0;34m+\u001b[0m \u001b[0mstr\u001b[0m\u001b[0;34m(\u001b[0m\u001b[0mexecutions\u001b[0m\u001b[0;34m)\u001b[0m\u001b[0;34m)\u001b[0m\u001b[0;34m\u001b[0m\u001b[0;34m\u001b[0m\u001b[0m\n\u001b[0m",
            "\u001b[0;31mNameError\u001b[0m: name 'solutions' is not defined"
          ]
        }
      ]
    },
    {
      "cell_type": "markdown",
      "metadata": {
        "id": "7yMks8G0Feu3"
      },
      "source": [
        "### 8x8"
      ]
    },
    {
      "cell_type": "code",
      "metadata": {
        "colab": {
          "background_save": true
        },
        "id": "wcR_mfUVFwxy"
      },
      "source": [
        "executions = 1000\n",
        "board_size = 8\n",
        "solutions, generated_nodes = TestHillClimbing_2(HillClimbingFirstBest, board_size, executions)\n",
        "print(\"Hill Climbing - First Best Neighbor\\nSolutions: \" + str(solutions) + \"% --- Average Generated Nodes: \" + str(generated_nodes) + \" --- Executions: \" + str(executions)) #  + \" --- Average Boards: \" + str(generated_boards)"
      ],
      "execution_count": null,
      "outputs": []
    },
    {
      "cell_type": "code",
      "metadata": {
        "colab": {
          "background_save": true
        },
        "id": "3GjWDS22YKe-"
      },
      "source": [
        "# executions = 100\n",
        "# board_size = 8\n",
        "# solutions, generated_nodes = TestHillClimbing_2(HillClimbingBestNeighbor, board_size, executions)\n",
        "# print(\"Hill Climbing - Best Neighbor\\nSolutions: \" + str(solutions) + \"% --- Average Generated Nodes: \" + str(generated_nodes) + \" --- Executions: \" + str(executions)) #  + \" --- Average Boards: \" + str(generated_boards)"
      ],
      "execution_count": null,
      "outputs": []
    },
    {
      "cell_type": "markdown",
      "metadata": {
        "id": "rdxTTwp6FiwP"
      },
      "source": [
        "### 16x16"
      ]
    },
    {
      "cell_type": "code",
      "metadata": {
        "colab": {
          "background_save": true
        },
        "id": "kIT6sq8KFxjc"
      },
      "source": [
        "executions = 1000\n",
        "board_size = 16\n",
        "%timeit solutions, generated_nodes = TestHillClimbing_2(HillClimbingFirstBest, board_size, executions)\n",
        "print(\"Hill Climbing - First Best Neighbor\\nSolutions: \" + str(solutions) + \" --- Average Generated Nodes: \" + str(generated_nodes) + \" --- Executions: \" + str(executions)) #  + \" --- Average Boards: \" + str(generated_boards)"
      ],
      "execution_count": null,
      "outputs": []
    },
    {
      "cell_type": "code",
      "metadata": {
        "colab": {
          "background_save": true
        },
        "id": "V0HF-MikyUL4"
      },
      "source": [
        "# executions = 100\n",
        "# board_size = 16\n",
        "# solutions, generated_nodes = TestHillClimbing_2(HillClimbingBestNeighbor, board_size, executions)\n",
        "# print(\"Hill Climbing - Best Neighbor\\nSolutions: \" + str(solutions) + \"% --- Average Generated Nodes: \" + str(generated_nodes) + \" --- Executions: \" + str(executions)) #  + \" --- Average Boards: \" + str(generated_boards)"
      ],
      "execution_count": null,
      "outputs": []
    },
    {
      "cell_type": "markdown",
      "metadata": {
        "id": "-MHrIrPZFkzS"
      },
      "source": [
        "### 32x32"
      ]
    },
    {
      "cell_type": "code",
      "metadata": {
        "colab": {
          "background_save": true
        },
        "id": "EhgUmhS7FyTA"
      },
      "source": [
        "executions = 100\n",
        "board_size = 32\n",
        "%timeit solutions, generated_nodes = TestHillClimbing_2(HillClimbingFirstBest, board_size, executions)\n",
        "print(\"Hill Climbing - First Best Neighbor\\nSolutions: \" + str(solutions) + \"% --- Average Generated Nodes: \" + str(generated_nodes) + \" --- Executions: \" + str(executions)) #  + \" --- Average Boards: \" + str(generated_boards)"
      ],
      "execution_count": null,
      "outputs": []
    },
    {
      "cell_type": "code",
      "metadata": {
        "colab": {
          "background_save": true
        },
        "id": "vYIYlp7ky88c"
      },
      "source": [
        "# executions = 10\n",
        "# board_size = 32\n",
        "# solutions, generated_nodes = TestHillClimbing(HillClimbingBestNeighbor, board_size, executions)\n",
        "# print(\"Hill Climbing - Best Neighbor\\nSolutions: \" + str(solutions) + \"% --- Average Generated Nodes: \" + str(generated_nodes) + \" --- Executions: \" + str(executions)) #  + \" --- Average Boards: \" + str(generated_boards)"
      ],
      "execution_count": null,
      "outputs": []
    }
  ]
}